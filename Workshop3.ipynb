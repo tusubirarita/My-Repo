{
  "nbformat": 4,
  "nbformat_minor": 0,
  "metadata": {
    "colab": {
      "name": "Untitled0.ipynb",
      "provenance": [],
      "authorship_tag": "ABX9TyMNtEdKvqAOsbGkm0Ts/NGi",
      "include_colab_link": true
    },
    "kernelspec": {
      "name": "python3",
      "display_name": "Python 3"
    },
    "language_info": {
      "name": "python"
    }
  },
  "cells": [
    {
      "cell_type": "markdown",
      "metadata": {
        "id": "view-in-github",
        "colab_type": "text"
      },
      "source": [
        "<a href=\"https://colab.research.google.com/github/tusubirarita/My-Repo/blob/main/Workshop3.ipynb\" target=\"_parent\"><img src=\"https://colab.research.google.com/assets/colab-badge.svg\" alt=\"Open In Colab\"/></a>"
      ]
    },
    {
      "cell_type": "code",
      "execution_count": 1,
      "metadata": {
        "colab": {
          "base_uri": "https://localhost:8080/"
        },
        "id": "mngjStIN0ay6",
        "outputId": "09f061e5-5824-44d0-d54e-8ad236650ce1"
      },
      "outputs": [
        {
          "output_type": "stream",
          "name": "stdout",
          "text": [
            "\u001b[K     |████████████████████████████████| 59 kB 2.7 MB/s \n",
            "\u001b[K     |████████████████████████████████| 300 kB 8.5 MB/s \n",
            "\u001b[K     |████████████████████████████████| 140 kB 42.1 MB/s \n",
            "\u001b[K     |████████████████████████████████| 153 kB 48.8 MB/s \n",
            "\u001b[K     |████████████████████████████████| 5.7 MB 28.0 MB/s \n",
            "\u001b[K     |████████████████████████████████| 3.3 MB 47.8 MB/s \n",
            "\u001b[K     |████████████████████████████████| 2.3 MB 38.4 MB/s \n",
            "\u001b[K     |████████████████████████████████| 1.1 MB 34.6 MB/s \n",
            "\u001b[K     |████████████████████████████████| 94 kB 3.4 MB/s \n",
            "\u001b[K     |████████████████████████████████| 144 kB 46.2 MB/s \n",
            "\u001b[K     |████████████████████████████████| 271 kB 57.9 MB/s \n",
            "\u001b[K     |████████████████████████████████| 6.2 MB 18.2 MB/s \n",
            "\u001b[?25h  Building wheel for asciitree (setup.py) ... \u001b[?25l\u001b[?25hdone\n"
          ]
        }
      ],
      "source": [
        "!pip install -q malariagen_data"
      ]
    }
  ]
}