{
  "nbformat": 4,
  "nbformat_minor": 0,
  "metadata": {
    "colab": {
      "name": "Untitled2.ipynb",
      "provenance": [],
      "authorship_tag": "ABX9TyNm/oHI2TaHUrTWD/VLLhjA",
      "include_colab_link": true
    },
    "kernelspec": {
      "name": "python3",
      "display_name": "Python 3"
    },
    "language_info": {
      "name": "python"
    }
  },
  "cells": [
    {
      "cell_type": "markdown",
      "metadata": {
        "id": "view-in-github",
        "colab_type": "text"
      },
      "source": [
        "<a href=\"https://colab.research.google.com/github/tusubirarita/My-Repo/blob/main/Workshop3.ipynb\" target=\"_parent\"><img src=\"https://colab.research.google.com/assets/colab-badge.svg\" alt=\"Open In Colab\"/></a>"
      ]
    },
    {
      "cell_type": "code",
      "execution_count": 4,
      "metadata": {
        "colab": {
          "base_uri": "https://localhost:8080/"
        },
        "id": "pjj7HE7RUYYJ",
        "outputId": "b21554a8-f383-4fd4-9976-96561a1ad13c"
      },
      "outputs": [
        {
          "output_type": "stream",
          "name": "stdout",
          "text": [
            "\u001b[K     |████████████████████████████████| 61 kB 332 kB/s \n",
            "\u001b[K     |████████████████████████████████| 3.3 MB 50.3 MB/s \n",
            "\u001b[K     |████████████████████████████████| 2.3 MB 42.1 MB/s \n",
            "\u001b[K     |████████████████████████████████| 140 kB 60.8 MB/s \n",
            "\u001b[K     |████████████████████████████████| 5.7 MB 32.4 MB/s \n",
            "\u001b[K     |████████████████████████████████| 300 kB 63.8 MB/s \n",
            "\u001b[K     |████████████████████████████████| 153 kB 39.7 MB/s \n",
            "\u001b[K     |████████████████████████████████| 1.1 MB 47.5 MB/s \n",
            "\u001b[K     |████████████████████████████████| 94 kB 3.7 MB/s \n",
            "\u001b[K     |████████████████████████████████| 271 kB 59.3 MB/s \n",
            "\u001b[K     |████████████████████████████████| 144 kB 55.5 MB/s \n",
            "\u001b[K     |████████████████████████████████| 6.2 MB 44.9 MB/s \n",
            "\u001b[?25h  Building wheel for asciitree (setup.py) ... \u001b[?25l\u001b[?25hdone\n"
          ]
        }
      ],
      "source": [
        "!pip install -q malariagen_data"
      ]
    },
    {
      "cell_type": "code",
      "source": [
        "import malariagen_data\n",
        "import numpy as np"
      ],
      "metadata": {
        "id": "omCel5QeVEBY"
      },
      "execution_count": 7,
      "outputs": []
    }
  ]
}